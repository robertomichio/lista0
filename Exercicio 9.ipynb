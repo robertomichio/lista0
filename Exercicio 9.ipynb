{
 "cells": [
  {
   "cell_type": "markdown",
   "metadata": {},
   "source": [
    "Lista 0\n",
    "Exercicio 9"
   ]
  },
  {
   "cell_type": "code",
   "execution_count": 180,
   "metadata": {},
   "outputs": [
    {
     "data": {
      "image/png": "[encoded data removed]",
      "text/plain": [
       "<Figure size 432x288 with 1 Axes>"
      ]
     },
     "metadata": {
      "needs_background": "light"
     },
     "output_type": "display_data"
    }
   ],
   "source": [
    "import numpy as np\n",
    "import matplotlib.pyplot as plt\n",
    "import math\n",
    "\n",
    "def modulator(bits):\n",
    "    if bits & 1:\n",
    "        real = -np.sqrt(0.5)\n",
    "    else:\n",
    "        real = np.sqrt(0.5)\n",
    "    if bits & 2:\n",
    "        imag = -np.sqrt(0.5)\n",
    "    else:\n",
    "        imag = np.sqrt(0.5)\n",
    "    return (real + 1.0j*imag)\n",
    "\n",
    "def demodulator(symbol):\n",
    "    if symbol.real > 0:\n",
    "        bits = 0\n",
    "    else:\n",
    "        bits = 1\n",
    "    if symbol.imag <= 0:\n",
    "        bits = bits | 2\n",
    "    return (bits)\n",
    "\n",
    "n = 100000\n",
    "gaindb = np.arange(-2, 22, 2)\n",
    "gain = np.sqrt(0.5)*np.power(10, -gaindb/20.0)\n",
    "gain_pot = np.sqrt(0.5)*np.power(10, -gaindb/10.0)\n",
    "bitrx = np.zeros(n, dtype=int)\n",
    "ser_calc = np.zeros(len(gain))\n",
    "ser_simul = np.zeros(len(gain))\n",
    "\n",
    "for i in range(len(gain)):\n",
    "    factor = np.sqrt(np.sqrt(0.5)/(2*gain_pot[i]))\n",
    "    ser_calc[i] = math.erfc(factor) - 0.25*(math.erfc(factor))**2\n",
    "\n",
    "    bittx = np.random.randint(4,size=n)\n",
    "    symbols = np.zeros(n, dtype=complex)\n",
    "\n",
    "    for j in range(n):\n",
    "        symbols[j] = modulator(bittx[j])\n",
    "\n",
    "    noise_real = gain[i] * np.random.normal(0,1,n)\n",
    "    noise_imag = gain[i] * np.random.normal(0,1,n)\n",
    "    noise = noise_real + 1.0j*noise_imag\n",
    "    symbol_plus_noise = symbols + noise\n",
    "    error_counter = 0\n",
    "    for j in range(n):\n",
    "        bitrx[j] = demodulator(symbols[j]+noise[j])\n",
    "        if bitrx[j] != bittx[j]:\n",
    "            error_counter = error_counter + 1\n",
    "    ser_simul[i] = error_counter/n\n",
    "\n",
    "fig, ax = plt.subplots()\n",
    "ax.plot(gaindb, ser_simul, 'o', color='blue', markersize=6)\n",
    "ax.plot(gaindb, ser_calc, 'x', color='red', markersize=10)\n",
    "ax.set(xlabel='Noise (dB)', ylabel='SER', title='Symbol Error Rate')\n",
    "ax.grid(True)\n",
    "plt.show()\n",
    "\n"
   ]
  }
 ],
 "metadata": {
  "kernelspec": {
   "display_name": "Python 3",
   "language": "python",
   "name": "python3"
  },
  "language_info": {
   "codemirror_mode": {
    "name": "ipython",
    "version": 3
   },
   "file_extension": ".py",
   "mimetype": "text/x-python",
   "name": "python",
   "nbconvert_exporter": "python",
   "pygments_lexer": "ipython3",
   "version": "3.8.3"
  }
 },
 "nbformat": 4,
 "nbformat_minor": 4
}
