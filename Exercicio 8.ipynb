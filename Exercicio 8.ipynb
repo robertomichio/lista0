{
 "cells": [
  {
   "cell_type": "markdown",
   "metadata": {},
   "source": [
    "Lista 0\n",
    "Exercicio 8"
   ]
  },
  {
   "cell_type": "code",
   "execution_count": 2,
   "metadata": {},
   "outputs": [
    {
     "name": "stdout",
     "output_type": "stream",
     "text": [
      "[3 2 0 3 2 1 0 2 3 2 0 1 1 2 1 0 2 3 2 2 3 2 3 1 0 3 3 2 0 1]\n",
      "[3 2 0 3 2 1 0 2 3 2 0 1 1 2 1 0 2 3 2 2 3 2 3 1 0 3 3 2 0 1]\n"
     ]
    }
   ],
   "source": [
    "import numpy as np\n",
    "import matplotlib.pyplot as plt\n",
    "\n",
    "def modulator(bits):\n",
    "    if bits & 1:\n",
    "        real = -np.sqrt(0.5)\n",
    "    else:\n",
    "        real = np.sqrt(0.5)\n",
    "    if bits & 2:\n",
    "        imag = -np.sqrt(0.5)\n",
    "    else:\n",
    "        imag = np.sqrt(0.5)\n",
    "    return (real + 1.0j*imag)\n",
    "\n",
    "def demodulator(symbol):\n",
    "    if symbol.real > 0:\n",
    "        bits = 0\n",
    "    else:\n",
    "        bits = 1\n",
    "    if symbol.imag <= 0:\n",
    "        bits = bits | 2\n",
    "    return (bits)\n",
    "\n",
    "n = 10000\n",
    "bittx = np.random.randint(4,size=n)\n",
    "symbols = np.zeros(n, dtype=complex)\n",
    "for i in range(n):\n",
    "    symbols[i] = modulator(bittx[i])\n",
    "\n",
    "bitrx = np.zeros(n, dtype=int)\n",
    "for i in range(n):\n",
    "    bitrx[i] = demodulator(symbols[i])\n",
    "\n",
    "print (bittx[0:30])\n",
    "print (bitrx[0:30])\n"
   ]
  }
 ],
 "metadata": {
  "kernelspec": {
   "display_name": "Python 3",
   "language": "python",
   "name": "python3"
  },
  "language_info": {
   "codemirror_mode": {
    "name": "ipython",
    "version": 3
   },
   "file_extension": ".py",
   "mimetype": "text/x-python",
   "name": "python",
   "nbconvert_exporter": "python",
   "pygments_lexer": "ipython3",
   "version": "3.8.3"
  }
 },
 "nbformat": 4,
 "nbformat_minor": 4
}
