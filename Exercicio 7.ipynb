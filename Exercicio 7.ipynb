{
 "cells": [
  {
   "cell_type": "markdown",
   "metadata": {},
   "source": [
    "Lista 0\n",
    "Exercicio 7"
   ]
  },
  {
   "cell_type": "code",
   "execution_count": 43,
   "metadata": {},
   "outputs": [
    {
     "data": {
      "image/png": "[encoded data removed]",
      "text/plain": [
       "<Figure size 432x288 with 1 Axes>"
      ]
     },
     "metadata": {
      "needs_background": "light"
     },
     "output_type": "display_data"
    }
   ],
   "source": [
    "import numpy as np\n",
    "import matplotlib.pyplot as plt\n",
    "\n",
    "def modulator(bits):\n",
    "    if bits & 1:\n",
    "        real = -np.sqrt(0.5)\n",
    "    else:\n",
    "        real = np.sqrt(0.5)\n",
    "    if bits & 2:\n",
    "        imag = -np.sqrt(0.5)\n",
    "    else:\n",
    "        imag = np.sqrt(0.5)\n",
    "    return (real + 1.0j*imag)\n",
    "\n",
    "n = 1000\n",
    "dibits = np.random.randint(4,size=n)\n",
    "symbols = np.zeros(n, dtype=complex)\n",
    "\n",
    "for i in range(n):\n",
    "    symbols[i] = modulator(dibits[i])\n",
    "\n",
    "fig, ax = plt.subplots()\n",
    "ax.scatter(symbols.real, symbols.imag)\n",
    "ax.set(xlabel='real', ylabel='imag', title='Symbols')\n",
    "ax.set(xlim=(-1, 1), ylim=(-1, 1))\n",
    "ax.grid(True)\n",
    "plt.show()"
   ]
  }
 ],
 "metadata": {
  "kernelspec": {
   "display_name": "Python 3",
   "language": "python",
   "name": "python3"
  },
  "language_info": {
   "codemirror_mode": {
    "name": "ipython",
    "version": 3
   },
   "file_extension": ".py",
   "mimetype": "text/x-python",
   "name": "python",
   "nbconvert_exporter": "python",
   "pygments_lexer": "ipython3",
   "version": "3.8.3"
  }
 },
 "nbformat": 4,
 "nbformat_minor": 4
}
